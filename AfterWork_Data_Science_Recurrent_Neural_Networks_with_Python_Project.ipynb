{
  "nbformat": 4,
  "nbformat_minor": 0,
  "metadata": {
    "colab": {
      "name": " AfterWork Data Science: Recurrent Neural Networks with Python - Project",
      "provenance": [],
      "collapsed_sections": [
        "XecOwPNorl2W",
        "J4wfHZwQrs-t",
        "a9BPYqunry97",
        "7KMRBJ7zr9HD",
        "cnkCNAuEHlzG",
        "y5_spjYaHoyw",
        "i5BnrlDxU5uG"
      ],
      "toc_visible": true,
      "include_colab_link": true
    },
    "kernelspec": {
      "name": "python3",
      "display_name": "Python 3"
    },
    "gpuClass": "standard"
  },
  "cells": [
    {
      "cell_type": "markdown",
      "metadata": {
        "id": "view-in-github",
        "colab_type": "text"
      },
      "source": [
        "<a href=\"https://colab.research.google.com/github/Oughty-Otieno/Recurrent-Neural-Networks-with-Python---Project/blob/'main'/AfterWork_Data_Science_Recurrent_Neural_Networks_with_Python_Project.ipynb\" target=\"_parent\"><img src=\"https://colab.research.google.com/assets/colab-badge.svg\" alt=\"Open In Colab\"/></a>"
      ]
    },
    {
      "cell_type": "markdown",
      "metadata": {
        "id": "ymYoNMngEbN1"
      },
      "source": [
        "# <font color='#2F4F4F'>AfterWork Data Science: Recurrent Neural Networks with Python - Project</font>"
      ]
    },
    {
      "cell_type": "markdown",
      "metadata": {
        "id": "kLG2VTrnTvYL"
      },
      "source": [
        "## <font color='#2F4F4F'>Step 1. Business Understanding </font>"
      ]
    },
    {
      "cell_type": "markdown",
      "metadata": {
        "id": "XecOwPNorl2W"
      },
      "source": [
        "### a) Specifying the Research Question\n",
        "\n",
        "Build a recurrent neural networks model that will be used to predict Tesla stock prices in 2017 using data from 2012-2016"
      ]
    },
    {
      "cell_type": "markdown",
      "metadata": {
        "id": "J4wfHZwQrs-t"
      },
      "source": [
        "### b) Defining the Metric for Success\n",
        "\n",
        "Build a neural networks regression model with an RSME  less than 10% of the target mean."
      ]
    },
    {
      "cell_type": "markdown",
      "metadata": {
        "id": "a9BPYqunry97"
      },
      "source": [
        "### c) Understanding the Context \n",
        "\n",
        "Stockpy is an innovative fintech enabling financial prosperity for the entire population. It is a venture funded startup based in Palo Alto bringing world-class financial experiences to a continually growing customer base. As Stockpy enters an expansion phase for innovative fintech product offerings, it aims to enhance the enormous value in data processing and analysis for continuous growth and success.\n",
        "\n",
        "As a Finance Data Scientist for Stockpy, you provide leadership to turn cutting-edge technology into actionable insights; unlocking the power of data that provides value to business decisions and customer service enhancements."
      ]
    },
    {
      "cell_type": "markdown",
      "metadata": {
        "id": "7KMRBJ7zr9HD"
      },
      "source": [
        "### d) Recording the Experimental Design\n",
        "\n",
        "* Business Understanding\n",
        "* Data Exploration\n",
        "* Data Preparation\n",
        "* Data Modeling and Evaluation\n",
        "* Summary of Findings and Recommendation\n",
        "* Challenging the Solution\n"
      ]
    },
    {
      "cell_type": "markdown",
      "metadata": {
        "id": "n8tP5QFQEcy2"
      },
      "source": [
        "## <font color='#2F4F4F'>Step 2. Data Importation</font>"
      ]
    },
    {
      "cell_type": "code",
      "metadata": {
        "id": "QIjcefBSy7I_"
      },
      "source": [
        "# Importing standard libraries\n",
        "# ---\n",
        "# \n",
        "import pandas as pd               # library for data manipulation\n",
        "import numpy as np                # library for scientific computations\n",
        "import matplotlib.pyplot as plt   # library for data visualisation "
      ],
      "execution_count": 1,
      "outputs": []
    },
    {
      "cell_type": "code",
      "metadata": {
        "id": "BmLxWeu1DTP9",
        "colab": {
          "base_uri": "https://localhost:8080/"
        },
        "outputId": "3572804f-7679-47eb-d058-754ac4662db2"
      },
      "source": [
        "# Importing our dataset\n",
        "# ---\n",
        "#\n",
        "train = pd.read_csv('https://bit.ly/38dSbSb')\n",
        "test = pd.read_csv('https://bit.ly/3kW8E0K')\n",
        "\n",
        "print(train.shape)\n",
        "\n",
        "print(test.shape)"
      ],
      "execution_count": 2,
      "outputs": [
        {
          "output_type": "stream",
          "name": "stdout",
          "text": [
            "(1258, 7)\n",
            "(212, 7)\n"
          ]
        }
      ]
    },
    {
      "cell_type": "markdown",
      "metadata": {
        "id": "yPaOYgFMEemO"
      },
      "source": [
        "## <font color='#2F4F4F'>Step 3. Data Exploration</font>"
      ]
    },
    {
      "cell_type": "code",
      "metadata": {
        "id": "S2HpkzRPJGVn",
        "colab": {
          "base_uri": "https://localhost:8080/",
          "height": 206
        },
        "outputId": "89cf0873-0ad9-4f49-c7c7-163b0b79f15c"
      },
      "source": [
        "# Sample dataset\n",
        "# ---\n",
        "#\n",
        "train.head()"
      ],
      "execution_count": 3,
      "outputs": [
        {
          "output_type": "execute_result",
          "data": {
            "text/plain": [
              "         Date   Open   High    Low  Close  Adj Close   Volume\n",
              "0  2012-01-03  5.788  5.900  5.530  5.616      5.616  4640500\n",
              "1  2012-01-04  5.642  5.734  5.500  5.542      5.542  3150500\n",
              "2  2012-01-05  5.552  5.586  5.370  5.424      5.424  5027500\n",
              "3  2012-01-06  5.440  5.558  5.282  5.382      5.382  4931500\n",
              "4  2012-01-09  5.400  5.498  5.224  5.450      5.450  4485000"
            ],
            "text/html": [
              "\n",
              "  <div id=\"df-d868f786-94a0-4a80-bcc0-4215f0765200\">\n",
              "    <div class=\"colab-df-container\">\n",
              "      <div>\n",
              "<style scoped>\n",
              "    .dataframe tbody tr th:only-of-type {\n",
              "        vertical-align: middle;\n",
              "    }\n",
              "\n",
              "    .dataframe tbody tr th {\n",
              "        vertical-align: top;\n",
              "    }\n",
              "\n",
              "    .dataframe thead th {\n",
              "        text-align: right;\n",
              "    }\n",
              "</style>\n",
              "<table border=\"1\" class=\"dataframe\">\n",
              "  <thead>\n",
              "    <tr style=\"text-align: right;\">\n",
              "      <th></th>\n",
              "      <th>Date</th>\n",
              "      <th>Open</th>\n",
              "      <th>High</th>\n",
              "      <th>Low</th>\n",
              "      <th>Close</th>\n",
              "      <th>Adj Close</th>\n",
              "      <th>Volume</th>\n",
              "    </tr>\n",
              "  </thead>\n",
              "  <tbody>\n",
              "    <tr>\n",
              "      <th>0</th>\n",
              "      <td>2012-01-03</td>\n",
              "      <td>5.788</td>\n",
              "      <td>5.900</td>\n",
              "      <td>5.530</td>\n",
              "      <td>5.616</td>\n",
              "      <td>5.616</td>\n",
              "      <td>4640500</td>\n",
              "    </tr>\n",
              "    <tr>\n",
              "      <th>1</th>\n",
              "      <td>2012-01-04</td>\n",
              "      <td>5.642</td>\n",
              "      <td>5.734</td>\n",
              "      <td>5.500</td>\n",
              "      <td>5.542</td>\n",
              "      <td>5.542</td>\n",
              "      <td>3150500</td>\n",
              "    </tr>\n",
              "    <tr>\n",
              "      <th>2</th>\n",
              "      <td>2012-01-05</td>\n",
              "      <td>5.552</td>\n",
              "      <td>5.586</td>\n",
              "      <td>5.370</td>\n",
              "      <td>5.424</td>\n",
              "      <td>5.424</td>\n",
              "      <td>5027500</td>\n",
              "    </tr>\n",
              "    <tr>\n",
              "      <th>3</th>\n",
              "      <td>2012-01-06</td>\n",
              "      <td>5.440</td>\n",
              "      <td>5.558</td>\n",
              "      <td>5.282</td>\n",
              "      <td>5.382</td>\n",
              "      <td>5.382</td>\n",
              "      <td>4931500</td>\n",
              "    </tr>\n",
              "    <tr>\n",
              "      <th>4</th>\n",
              "      <td>2012-01-09</td>\n",
              "      <td>5.400</td>\n",
              "      <td>5.498</td>\n",
              "      <td>5.224</td>\n",
              "      <td>5.450</td>\n",
              "      <td>5.450</td>\n",
              "      <td>4485000</td>\n",
              "    </tr>\n",
              "  </tbody>\n",
              "</table>\n",
              "</div>\n",
              "      <button class=\"colab-df-convert\" onclick=\"convertToInteractive('df-d868f786-94a0-4a80-bcc0-4215f0765200')\"\n",
              "              title=\"Convert this dataframe to an interactive table.\"\n",
              "              style=\"display:none;\">\n",
              "        \n",
              "  <svg xmlns=\"http://www.w3.org/2000/svg\" height=\"24px\"viewBox=\"0 0 24 24\"\n",
              "       width=\"24px\">\n",
              "    <path d=\"M0 0h24v24H0V0z\" fill=\"none\"/>\n",
              "    <path d=\"M18.56 5.44l.94 2.06.94-2.06 2.06-.94-2.06-.94-.94-2.06-.94 2.06-2.06.94zm-11 1L8.5 8.5l.94-2.06 2.06-.94-2.06-.94L8.5 2.5l-.94 2.06-2.06.94zm10 10l.94 2.06.94-2.06 2.06-.94-2.06-.94-.94-2.06-.94 2.06-2.06.94z\"/><path d=\"M17.41 7.96l-1.37-1.37c-.4-.4-.92-.59-1.43-.59-.52 0-1.04.2-1.43.59L10.3 9.45l-7.72 7.72c-.78.78-.78 2.05 0 2.83L4 21.41c.39.39.9.59 1.41.59.51 0 1.02-.2 1.41-.59l7.78-7.78 2.81-2.81c.8-.78.8-2.07 0-2.86zM5.41 20L4 18.59l7.72-7.72 1.47 1.35L5.41 20z\"/>\n",
              "  </svg>\n",
              "      </button>\n",
              "      \n",
              "  <style>\n",
              "    .colab-df-container {\n",
              "      display:flex;\n",
              "      flex-wrap:wrap;\n",
              "      gap: 12px;\n",
              "    }\n",
              "\n",
              "    .colab-df-convert {\n",
              "      background-color: #E8F0FE;\n",
              "      border: none;\n",
              "      border-radius: 50%;\n",
              "      cursor: pointer;\n",
              "      display: none;\n",
              "      fill: #1967D2;\n",
              "      height: 32px;\n",
              "      padding: 0 0 0 0;\n",
              "      width: 32px;\n",
              "    }\n",
              "\n",
              "    .colab-df-convert:hover {\n",
              "      background-color: #E2EBFA;\n",
              "      box-shadow: 0px 1px 2px rgba(60, 64, 67, 0.3), 0px 1px 3px 1px rgba(60, 64, 67, 0.15);\n",
              "      fill: #174EA6;\n",
              "    }\n",
              "\n",
              "    [theme=dark] .colab-df-convert {\n",
              "      background-color: #3B4455;\n",
              "      fill: #D2E3FC;\n",
              "    }\n",
              "\n",
              "    [theme=dark] .colab-df-convert:hover {\n",
              "      background-color: #434B5C;\n",
              "      box-shadow: 0px 1px 3px 1px rgba(0, 0, 0, 0.15);\n",
              "      filter: drop-shadow(0px 1px 2px rgba(0, 0, 0, 0.3));\n",
              "      fill: #FFFFFF;\n",
              "    }\n",
              "  </style>\n",
              "\n",
              "      <script>\n",
              "        const buttonEl =\n",
              "          document.querySelector('#df-d868f786-94a0-4a80-bcc0-4215f0765200 button.colab-df-convert');\n",
              "        buttonEl.style.display =\n",
              "          google.colab.kernel.accessAllowed ? 'block' : 'none';\n",
              "\n",
              "        async function convertToInteractive(key) {\n",
              "          const element = document.querySelector('#df-d868f786-94a0-4a80-bcc0-4215f0765200');\n",
              "          const dataTable =\n",
              "            await google.colab.kernel.invokeFunction('convertToInteractive',\n",
              "                                                     [key], {});\n",
              "          if (!dataTable) return;\n",
              "\n",
              "          const docLinkHtml = 'Like what you see? Visit the ' +\n",
              "            '<a target=\"_blank\" href=https://colab.research.google.com/notebooks/data_table.ipynb>data table notebook</a>'\n",
              "            + ' to learn more about interactive tables.';\n",
              "          element.innerHTML = '';\n",
              "          dataTable['output_type'] = 'display_data';\n",
              "          await google.colab.output.renderOutput(dataTable, element);\n",
              "          const docLink = document.createElement('div');\n",
              "          docLink.innerHTML = docLinkHtml;\n",
              "          element.appendChild(docLink);\n",
              "        }\n",
              "      </script>\n",
              "    </div>\n",
              "  </div>\n",
              "  "
            ]
          },
          "metadata": {},
          "execution_count": 3
        }
      ]
    },
    {
      "cell_type": "code",
      "metadata": {
        "id": "iiORNaHaE5f3",
        "colab": {
          "base_uri": "https://localhost:8080/",
          "height": 238
        },
        "outputId": "4d93bc87-09c9-485b-9173-e40263a863a7"
      },
      "source": [
        "# Statistical summary\n",
        "# ---\n",
        "#\n",
        "train.describe().T"
      ],
      "execution_count": 4,
      "outputs": [
        {
          "output_type": "execute_result",
          "data": {
            "text/plain": [
              "            count          mean           std          min           25%  \\\n",
              "Open       1258.0  3.199790e+01  1.691151e+01        5.324  8.403000e+00   \n",
              "High       1258.0  3.255867e+01  1.714854e+01        5.370  8.556000e+00   \n",
              "Low        1258.0  3.140370e+01  1.664924e+01        4.528  8.197000e+00   \n",
              "Close      1258.0  3.198924e+01  1.690350e+01        4.558  8.379500e+00   \n",
              "Adj Close  1258.0  3.198924e+01  1.690350e+01        4.558  8.379500e+00   \n",
              "Volume     1258.0  2.551310e+07  2.259037e+07  1824500.000  1.059400e+07   \n",
              "\n",
              "                    50%           75%           max  \n",
              "Open       3.941100e+01  4.521450e+01  5.753400e+01  \n",
              "High       4.012400e+01  4.593500e+01  5.828400e+01  \n",
              "Low        3.870900e+01  4.430300e+01  5.608000e+01  \n",
              "Close      3.942700e+01  4.507650e+01  5.720800e+01  \n",
              "Adj Close  3.942700e+01  4.507650e+01  5.720800e+01  \n",
              "Volume     2.007650e+07  3.245150e+07  1.858195e+08  "
            ],
            "text/html": [
              "\n",
              "  <div id=\"df-1e48de02-f7b4-433b-97fe-ebdd8a20374d\">\n",
              "    <div class=\"colab-df-container\">\n",
              "      <div>\n",
              "<style scoped>\n",
              "    .dataframe tbody tr th:only-of-type {\n",
              "        vertical-align: middle;\n",
              "    }\n",
              "\n",
              "    .dataframe tbody tr th {\n",
              "        vertical-align: top;\n",
              "    }\n",
              "\n",
              "    .dataframe thead th {\n",
              "        text-align: right;\n",
              "    }\n",
              "</style>\n",
              "<table border=\"1\" class=\"dataframe\">\n",
              "  <thead>\n",
              "    <tr style=\"text-align: right;\">\n",
              "      <th></th>\n",
              "      <th>count</th>\n",
              "      <th>mean</th>\n",
              "      <th>std</th>\n",
              "      <th>min</th>\n",
              "      <th>25%</th>\n",
              "      <th>50%</th>\n",
              "      <th>75%</th>\n",
              "      <th>max</th>\n",
              "    </tr>\n",
              "  </thead>\n",
              "  <tbody>\n",
              "    <tr>\n",
              "      <th>Open</th>\n",
              "      <td>1258.0</td>\n",
              "      <td>3.199790e+01</td>\n",
              "      <td>1.691151e+01</td>\n",
              "      <td>5.324</td>\n",
              "      <td>8.403000e+00</td>\n",
              "      <td>3.941100e+01</td>\n",
              "      <td>4.521450e+01</td>\n",
              "      <td>5.753400e+01</td>\n",
              "    </tr>\n",
              "    <tr>\n",
              "      <th>High</th>\n",
              "      <td>1258.0</td>\n",
              "      <td>3.255867e+01</td>\n",
              "      <td>1.714854e+01</td>\n",
              "      <td>5.370</td>\n",
              "      <td>8.556000e+00</td>\n",
              "      <td>4.012400e+01</td>\n",
              "      <td>4.593500e+01</td>\n",
              "      <td>5.828400e+01</td>\n",
              "    </tr>\n",
              "    <tr>\n",
              "      <th>Low</th>\n",
              "      <td>1258.0</td>\n",
              "      <td>3.140370e+01</td>\n",
              "      <td>1.664924e+01</td>\n",
              "      <td>4.528</td>\n",
              "      <td>8.197000e+00</td>\n",
              "      <td>3.870900e+01</td>\n",
              "      <td>4.430300e+01</td>\n",
              "      <td>5.608000e+01</td>\n",
              "    </tr>\n",
              "    <tr>\n",
              "      <th>Close</th>\n",
              "      <td>1258.0</td>\n",
              "      <td>3.198924e+01</td>\n",
              "      <td>1.690350e+01</td>\n",
              "      <td>4.558</td>\n",
              "      <td>8.379500e+00</td>\n",
              "      <td>3.942700e+01</td>\n",
              "      <td>4.507650e+01</td>\n",
              "      <td>5.720800e+01</td>\n",
              "    </tr>\n",
              "    <tr>\n",
              "      <th>Adj Close</th>\n",
              "      <td>1258.0</td>\n",
              "      <td>3.198924e+01</td>\n",
              "      <td>1.690350e+01</td>\n",
              "      <td>4.558</td>\n",
              "      <td>8.379500e+00</td>\n",
              "      <td>3.942700e+01</td>\n",
              "      <td>4.507650e+01</td>\n",
              "      <td>5.720800e+01</td>\n",
              "    </tr>\n",
              "    <tr>\n",
              "      <th>Volume</th>\n",
              "      <td>1258.0</td>\n",
              "      <td>2.551310e+07</td>\n",
              "      <td>2.259037e+07</td>\n",
              "      <td>1824500.000</td>\n",
              "      <td>1.059400e+07</td>\n",
              "      <td>2.007650e+07</td>\n",
              "      <td>3.245150e+07</td>\n",
              "      <td>1.858195e+08</td>\n",
              "    </tr>\n",
              "  </tbody>\n",
              "</table>\n",
              "</div>\n",
              "      <button class=\"colab-df-convert\" onclick=\"convertToInteractive('df-1e48de02-f7b4-433b-97fe-ebdd8a20374d')\"\n",
              "              title=\"Convert this dataframe to an interactive table.\"\n",
              "              style=\"display:none;\">\n",
              "        \n",
              "  <svg xmlns=\"http://www.w3.org/2000/svg\" height=\"24px\"viewBox=\"0 0 24 24\"\n",
              "       width=\"24px\">\n",
              "    <path d=\"M0 0h24v24H0V0z\" fill=\"none\"/>\n",
              "    <path d=\"M18.56 5.44l.94 2.06.94-2.06 2.06-.94-2.06-.94-.94-2.06-.94 2.06-2.06.94zm-11 1L8.5 8.5l.94-2.06 2.06-.94-2.06-.94L8.5 2.5l-.94 2.06-2.06.94zm10 10l.94 2.06.94-2.06 2.06-.94-2.06-.94-.94-2.06-.94 2.06-2.06.94z\"/><path d=\"M17.41 7.96l-1.37-1.37c-.4-.4-.92-.59-1.43-.59-.52 0-1.04.2-1.43.59L10.3 9.45l-7.72 7.72c-.78.78-.78 2.05 0 2.83L4 21.41c.39.39.9.59 1.41.59.51 0 1.02-.2 1.41-.59l7.78-7.78 2.81-2.81c.8-.78.8-2.07 0-2.86zM5.41 20L4 18.59l7.72-7.72 1.47 1.35L5.41 20z\"/>\n",
              "  </svg>\n",
              "      </button>\n",
              "      \n",
              "  <style>\n",
              "    .colab-df-container {\n",
              "      display:flex;\n",
              "      flex-wrap:wrap;\n",
              "      gap: 12px;\n",
              "    }\n",
              "\n",
              "    .colab-df-convert {\n",
              "      background-color: #E8F0FE;\n",
              "      border: none;\n",
              "      border-radius: 50%;\n",
              "      cursor: pointer;\n",
              "      display: none;\n",
              "      fill: #1967D2;\n",
              "      height: 32px;\n",
              "      padding: 0 0 0 0;\n",
              "      width: 32px;\n",
              "    }\n",
              "\n",
              "    .colab-df-convert:hover {\n",
              "      background-color: #E2EBFA;\n",
              "      box-shadow: 0px 1px 2px rgba(60, 64, 67, 0.3), 0px 1px 3px 1px rgba(60, 64, 67, 0.15);\n",
              "      fill: #174EA6;\n",
              "    }\n",
              "\n",
              "    [theme=dark] .colab-df-convert {\n",
              "      background-color: #3B4455;\n",
              "      fill: #D2E3FC;\n",
              "    }\n",
              "\n",
              "    [theme=dark] .colab-df-convert:hover {\n",
              "      background-color: #434B5C;\n",
              "      box-shadow: 0px 1px 3px 1px rgba(0, 0, 0, 0.15);\n",
              "      filter: drop-shadow(0px 1px 2px rgba(0, 0, 0, 0.3));\n",
              "      fill: #FFFFFF;\n",
              "    }\n",
              "  </style>\n",
              "\n",
              "      <script>\n",
              "        const buttonEl =\n",
              "          document.querySelector('#df-1e48de02-f7b4-433b-97fe-ebdd8a20374d button.colab-df-convert');\n",
              "        buttonEl.style.display =\n",
              "          google.colab.kernel.accessAllowed ? 'block' : 'none';\n",
              "\n",
              "        async function convertToInteractive(key) {\n",
              "          const element = document.querySelector('#df-1e48de02-f7b4-433b-97fe-ebdd8a20374d');\n",
              "          const dataTable =\n",
              "            await google.colab.kernel.invokeFunction('convertToInteractive',\n",
              "                                                     [key], {});\n",
              "          if (!dataTable) return;\n",
              "\n",
              "          const docLinkHtml = 'Like what you see? Visit the ' +\n",
              "            '<a target=\"_blank\" href=https://colab.research.google.com/notebooks/data_table.ipynb>data table notebook</a>'\n",
              "            + ' to learn more about interactive tables.';\n",
              "          element.innerHTML = '';\n",
              "          dataTable['output_type'] = 'display_data';\n",
              "          await google.colab.output.renderOutput(dataTable, element);\n",
              "          const docLink = document.createElement('div');\n",
              "          docLink.innerHTML = docLinkHtml;\n",
              "          element.appendChild(docLink);\n",
              "        }\n",
              "      </script>\n",
              "    </div>\n",
              "  </div>\n",
              "  "
            ]
          },
          "metadata": {},
          "execution_count": 4
        }
      ]
    },
    {
      "cell_type": "markdown",
      "metadata": {
        "id": "uVLc3iMCE48d"
      },
      "source": [
        "## <font color='#2F4F4F'>Step 4. Data Preparation</font>"
      ]
    },
    {
      "cell_type": "code",
      "metadata": {
        "id": "1DD5qpc3Ivyf",
        "colab": {
          "base_uri": "https://localhost:8080/"
        },
        "outputId": "89271eb8-3cb2-436a-9a20-1e14eb68d051"
      },
      "source": [
        "# Getting our train dataset\n",
        "# We will use the 'Open' price for prediction.\n",
        "#\n",
        "train_set = train.iloc[:, 1:2].values\n",
        "print(train_set)"
      ],
      "execution_count": 5,
      "outputs": [
        {
          "output_type": "stream",
          "name": "stdout",
          "text": [
            "[[ 5.788   ]\n",
            " [ 5.642   ]\n",
            " [ 5.552   ]\n",
            " ...\n",
            " [44.306   ]\n",
            " [43.712002]\n",
            " [43.259998]]\n"
          ]
        }
      ]
    },
    {
      "cell_type": "code",
      "metadata": {
        "id": "fBavdYmaDaQj",
        "colab": {
          "base_uri": "https://localhost:8080/"
        },
        "outputId": "cbac3e0a-0a1b-4213-dd31-91ada7a828b0"
      },
      "source": [
        "# Performing Feature scaling\n",
        "# ---\n",
        "#\n",
        "from sklearn.preprocessing import MinMaxScaler\n",
        "sc =  MinMaxScaler(feature_range = (0, 1))\n",
        "train_set_scaled = sc.fit_transform(train_set)\n",
        "print(train_set_scaled)"
      ],
      "execution_count": 6,
      "outputs": [
        {
          "output_type": "stream",
          "name": "stdout",
          "text": [
            "[[0.00888719]\n",
            " [0.00609079]\n",
            " [0.00436698]\n",
            " ...\n",
            " [0.74663857]\n",
            " [0.73526148]\n",
            " [0.72660406]]\n"
          ]
        }
      ]
    },
    {
      "cell_type": "code",
      "metadata": {
        "id": "Hdkim4BCDgdi"
      },
      "source": [
        "# Creating a Data structure with 60 timesteps and 1 output\n",
        "# ---\n",
        "# A special data structure is needed to cover 60-time stamps, based on which RNN will predict the 61st price. \n",
        "# The number of past timestamps is set to 60 based on experimentation.\n",
        "# Thus, X_train is a nested list, which contains lists of 60 time-stamp prices. \n",
        "# y_train is a list of stock prices which is the next day stock price, corresponding to each list in X_train.\n",
        "# ---\n",
        "#\n",
        "X_train = []\n",
        "y_train = []\n",
        "for i in range(60, 1258):\n",
        "    X_train.append(train_set_scaled[i-60:i, 0])\n",
        "    y_train.append(train_set_scaled[i, 0])\n",
        "X_train, y_train = np.array(X_train), np.array(y_train)\n"
      ],
      "execution_count": 7,
      "outputs": []
    },
    {
      "cell_type": "code",
      "source": [
        "# Previewing X_train\n",
        "print(X_train)"
      ],
      "metadata": {
        "colab": {
          "base_uri": "https://localhost:8080/"
        },
        "id": "3e46ex-VGIQC",
        "outputId": "73965c41-a336-4a58-9542-28cfc3daa7cf"
      },
      "execution_count": 8,
      "outputs": [
        {
          "output_type": "stream",
          "name": "stdout",
          "text": [
            "[[0.00888719 0.00609079 0.00436698 ... 0.03436123 0.04037541 0.04275043]\n",
            " [0.00609079 0.00436698 0.0022218  ... 0.04037541 0.04275043 0.04432101]\n",
            " [0.00436698 0.0022218  0.00145566 ... 0.04275043 0.04432101 0.04175445]\n",
            " ...\n",
            " [0.71128134 0.71434589 0.71105156 ... 0.69565219 0.69480939 0.72116457]\n",
            " [0.71434589 0.71105156 0.67358745 ... 0.69480939 0.72116457 0.74663857]\n",
            " [0.71105156 0.67358745 0.66799466 ... 0.72116457 0.74663857 0.73526148]]\n"
          ]
        }
      ]
    },
    {
      "cell_type": "code",
      "source": [
        "# Previewing y_train\n",
        "# ---\n",
        "#\n",
        "print(y_train)"
      ],
      "metadata": {
        "colab": {
          "base_uri": "https://localhost:8080/"
        },
        "id": "i8xqKA92GJ6P",
        "outputId": "17bf64d0-faa3-4fc3-ec5b-a86bb70d5db1"
      },
      "execution_count": 9,
      "outputs": [
        {
          "output_type": "stream",
          "name": "stdout",
          "text": [
            "[0.04432101 0.04175445 0.04102662 ... 0.74663857 0.73526148 0.72660406]\n"
          ]
        }
      ]
    },
    {
      "cell_type": "code",
      "metadata": {
        "id": "jcSQM2x8DlhI"
      },
      "source": [
        "# Reshaping \n",
        "# ---\n",
        "#\n",
        "# Reshaping our Dataset\n",
        "# ---\n",
        "# Here, only the features which are to be fed to the neural network are chosen. \n",
        "# We choose the features Date, open, high, low, close, and volume.\n",
        "# ---\n",
        "# We also reshape our dataset to have 3D shape. We do this because \n",
        "# the input to LSTM layer of our RNN should be in 3D shape i.e. (samples, time-steps, features/indicators).\n",
        "# a. The samples are the number of samples in the input data. \n",
        "# b. The time-steps is the number of time-steps per sample. \n",
        "# c. Features correspond to the number of features per time-step i.e. one feature per time-step.\n",
        "# ---\n",
        "#\n",
        "X_train = np.reshape(X_train, (X_train.shape[0], X_train.shape[1], 1))"
      ],
      "execution_count": 10,
      "outputs": []
    },
    {
      "cell_type": "markdown",
      "metadata": {
        "id": "D4Qz7YGGHbee"
      },
      "source": [
        "##  <font color='#2F4F4F'>Step 5. Data Modeling</font>"
      ]
    },
    {
      "cell_type": "code",
      "metadata": {
        "id": "xSKGzmRNDtpV"
      },
      "source": [
        "# Building the RNN\n",
        "# ---\n",
        "#\n",
        "# Importing the Keras libraries and packages\n",
        "# ---\n",
        "#\n",
        "from keras.models import Sequential\n",
        "from keras.layers import Dense\n",
        "from keras.layers import LSTM\n",
        "from keras.layers import Dropout"
      ],
      "execution_count": 11,
      "outputs": []
    },
    {
      "cell_type": "code",
      "metadata": {
        "id": "l-oXw1R5Dy7T"
      },
      "source": [
        "# Initialising the RNN\n",
        "# ---\n",
        "#\n",
        "regressor = Sequential()\n",
        "\n",
        "# Adding the first LSTM layer and some Dropout regularisation\n",
        "# ---\n",
        "# 'units' is the number of LSTM neurons in the layer\n",
        "# 'return_sequences' is True as we need to add another LSTM layer after the current one.\n",
        "# 'input_shape' corresponds to the number of time stamps and the number of indicators.\n",
        "#  For 'Dropout', 20% of 50 neurons will be ignored randomly during each iteration of training.\n",
        "# ---\n",
        "# \n",
        "regressor.add(LSTM(units = 50, return_sequences = True, input_shape = (X_train.shape[1], 1)))\n",
        "regressor.add(Dropout(0.2))\n",
        "\n",
        "# Adding 4 LSTM layers and some Dropout regularisation\n",
        "# ---\n",
        "#\n",
        "# Adding a second LSTM layer and some Dropout regularisation\n",
        "# ---\n",
        "#\n",
        "regressor.add(LSTM(units = 50, return_sequences = True))\n",
        "regressor.add(Dropout(0.2))\n",
        "\n",
        "# Adding a third LSTM layer and some Dropout regularisation\n",
        "# ---\n",
        "#\n",
        "regressor.add(LSTM(units = 50, return_sequences = True))\n",
        "regressor.add(Dropout(0.2))\n",
        "\n",
        "# Adding a fourth LSTM layer and some Dropout regularisation\n",
        "# ---\n",
        "# 'return_sequences' is False as we will not add more LSTM layers after this one.\n",
        "# ---\n",
        "regressor.add(LSTM(units = 50, return_sequences = False))\n",
        "regressor.add(Dropout(0.2))\n",
        "\n",
        "\n",
        "# Adding the output layer\n",
        "# ---\n",
        "#\n",
        "# ---\n",
        "# 'output dimension' is 1 since we are predicting 1 price each time.\n",
        "# ---\n",
        "#\n",
        "regressor.add(Dense(units = 1))"
      ],
      "execution_count": 12,
      "outputs": []
    },
    {
      "cell_type": "code",
      "metadata": {
        "id": "0nsqxXskD3IX"
      },
      "source": [
        "# Compile the RNN \n",
        "# ---\n",
        "#\n",
        "regressor.compile(optimizer = 'adam', loss = 'mean_squared_error')"
      ],
      "execution_count": 13,
      "outputs": []
    },
    {
      "cell_type": "code",
      "metadata": {
        "id": "obcll9uYD6od",
        "colab": {
          "base_uri": "https://localhost:8080/"
        },
        "outputId": "3958db3a-99fd-411f-c884-52373599877f"
      },
      "source": [
        "# Fitting the RNN to the training set\n",
        "# ---\n",
        "#\n",
        "regressor.fit(X_train, y_train, epochs = 100, batch_size = 32)"
      ],
      "execution_count": 14,
      "outputs": [
        {
          "output_type": "stream",
          "name": "stdout",
          "text": [
            "Epoch 1/100\n",
            "38/38 [==============================] - 17s 125ms/step - loss: 0.0517\n",
            "Epoch 2/100\n",
            "38/38 [==============================] - 7s 176ms/step - loss: 0.0086\n",
            "Epoch 3/100\n",
            "38/38 [==============================] - 9s 238ms/step - loss: 0.0077\n",
            "Epoch 4/100\n",
            "38/38 [==============================] - 5s 120ms/step - loss: 0.0083\n",
            "Epoch 5/100\n",
            "38/38 [==============================] - 5s 127ms/step - loss: 0.0081\n",
            "Epoch 6/100\n",
            "38/38 [==============================] - 5s 121ms/step - loss: 0.0066\n",
            "Epoch 7/100\n",
            "38/38 [==============================] - 5s 131ms/step - loss: 0.0068\n",
            "Epoch 8/100\n",
            "38/38 [==============================] - 4s 118ms/step - loss: 0.0064\n",
            "Epoch 9/100\n",
            "38/38 [==============================] - 7s 180ms/step - loss: 0.0061\n",
            "Epoch 10/100\n",
            "38/38 [==============================] - 5s 137ms/step - loss: 0.0056\n",
            "Epoch 11/100\n",
            "38/38 [==============================] - 5s 133ms/step - loss: 0.0051\n",
            "Epoch 12/100\n",
            "38/38 [==============================] - 5s 135ms/step - loss: 0.0054\n",
            "Epoch 13/100\n",
            "38/38 [==============================] - 5s 121ms/step - loss: 0.0056\n",
            "Epoch 14/100\n",
            "38/38 [==============================] - 5s 142ms/step - loss: 0.0050\n",
            "Epoch 15/100\n",
            "38/38 [==============================] - 5s 121ms/step - loss: 0.0051\n",
            "Epoch 16/100\n",
            "38/38 [==============================] - 5s 142ms/step - loss: 0.0053\n",
            "Epoch 17/100\n",
            "38/38 [==============================] - 4s 118ms/step - loss: 0.0048\n",
            "Epoch 18/100\n",
            "38/38 [==============================] - 5s 120ms/step - loss: 0.0047\n",
            "Epoch 19/100\n",
            "38/38 [==============================] - 5s 125ms/step - loss: 0.0047\n",
            "Epoch 20/100\n",
            "38/38 [==============================] - 5s 119ms/step - loss: 0.0047\n",
            "Epoch 21/100\n",
            "38/38 [==============================] - 5s 126ms/step - loss: 0.0048\n",
            "Epoch 22/100\n",
            "38/38 [==============================] - 5s 125ms/step - loss: 0.0054\n",
            "Epoch 23/100\n",
            "38/38 [==============================] - 5s 143ms/step - loss: 0.0042\n",
            "Epoch 24/100\n",
            "38/38 [==============================] - 5s 126ms/step - loss: 0.0040\n",
            "Epoch 25/100\n",
            "38/38 [==============================] - 5s 121ms/step - loss: 0.0043\n",
            "Epoch 26/100\n",
            "38/38 [==============================] - 5s 125ms/step - loss: 0.0047\n",
            "Epoch 27/100\n",
            "38/38 [==============================] - 5s 124ms/step - loss: 0.0043\n",
            "Epoch 28/100\n",
            "38/38 [==============================] - 5s 132ms/step - loss: 0.0042\n",
            "Epoch 29/100\n",
            "38/38 [==============================] - 5s 133ms/step - loss: 0.0037\n",
            "Epoch 30/100\n",
            "38/38 [==============================] - 5s 124ms/step - loss: 0.0042\n",
            "Epoch 31/100\n",
            "38/38 [==============================] - 5s 129ms/step - loss: 0.0038\n",
            "Epoch 32/100\n",
            "38/38 [==============================] - 5s 121ms/step - loss: 0.0038\n",
            "Epoch 33/100\n",
            "38/38 [==============================] - 5s 126ms/step - loss: 0.0037\n",
            "Epoch 34/100\n",
            "38/38 [==============================] - 5s 120ms/step - loss: 0.0037\n",
            "Epoch 35/100\n",
            "38/38 [==============================] - 5s 127ms/step - loss: 0.0037\n",
            "Epoch 36/100\n",
            "38/38 [==============================] - 4s 117ms/step - loss: 0.0038\n",
            "Epoch 37/100\n",
            "38/38 [==============================] - 5s 138ms/step - loss: 0.0036\n",
            "Epoch 38/100\n",
            "38/38 [==============================] - 5s 129ms/step - loss: 0.0036\n",
            "Epoch 39/100\n",
            "38/38 [==============================] - 5s 119ms/step - loss: 0.0032\n",
            "Epoch 40/100\n",
            "38/38 [==============================] - 5s 139ms/step - loss: 0.0036\n",
            "Epoch 41/100\n",
            "38/38 [==============================] - 5s 122ms/step - loss: 0.0033\n",
            "Epoch 42/100\n",
            "38/38 [==============================] - 4s 118ms/step - loss: 0.0035\n",
            "Epoch 43/100\n",
            "38/38 [==============================] - 5s 129ms/step - loss: 0.0035\n",
            "Epoch 44/100\n",
            "38/38 [==============================] - 5s 127ms/step - loss: 0.0033\n",
            "Epoch 45/100\n",
            "38/38 [==============================] - 5s 122ms/step - loss: 0.0033\n",
            "Epoch 46/100\n",
            "38/38 [==============================] - 5s 127ms/step - loss: 0.0032\n",
            "Epoch 47/100\n",
            "38/38 [==============================] - 4s 118ms/step - loss: 0.0034\n",
            "Epoch 48/100\n",
            "38/38 [==============================] - 5s 122ms/step - loss: 0.0032\n",
            "Epoch 49/100\n",
            "38/38 [==============================] - 4s 116ms/step - loss: 0.0031\n",
            "Epoch 50/100\n",
            "38/38 [==============================] - 4s 117ms/step - loss: 0.0033\n",
            "Epoch 51/100\n",
            "38/38 [==============================] - 5s 124ms/step - loss: 0.0031\n",
            "Epoch 52/100\n",
            "38/38 [==============================] - 5s 139ms/step - loss: 0.0028\n",
            "Epoch 53/100\n",
            "38/38 [==============================] - 5s 128ms/step - loss: 0.0030\n",
            "Epoch 54/100\n",
            "38/38 [==============================] - 5s 125ms/step - loss: 0.0032\n",
            "Epoch 55/100\n",
            "38/38 [==============================] - 5s 121ms/step - loss: 0.0030\n",
            "Epoch 56/100\n",
            "38/38 [==============================] - 5s 119ms/step - loss: 0.0027\n",
            "Epoch 57/100\n",
            "38/38 [==============================] - 5s 119ms/step - loss: 0.0029\n",
            "Epoch 58/100\n",
            "38/38 [==============================] - 5s 127ms/step - loss: 0.0029\n",
            "Epoch 59/100\n",
            "38/38 [==============================] - 5s 125ms/step - loss: 0.0027\n",
            "Epoch 60/100\n",
            "38/38 [==============================] - 5s 124ms/step - loss: 0.0029\n",
            "Epoch 61/100\n",
            "38/38 [==============================] - 5s 132ms/step - loss: 0.0030\n",
            "Epoch 62/100\n",
            "38/38 [==============================] - 5s 121ms/step - loss: 0.0027\n",
            "Epoch 63/100\n",
            "38/38 [==============================] - 5s 130ms/step - loss: 0.0027\n",
            "Epoch 64/100\n",
            "38/38 [==============================] - 5s 121ms/step - loss: 0.0027\n",
            "Epoch 65/100\n",
            "38/38 [==============================] - 6s 150ms/step - loss: 0.0025\n",
            "Epoch 66/100\n",
            "38/38 [==============================] - 5s 119ms/step - loss: 0.0026\n",
            "Epoch 67/100\n",
            "38/38 [==============================] - 5s 124ms/step - loss: 0.0026\n",
            "Epoch 68/100\n",
            "38/38 [==============================] - 5s 130ms/step - loss: 0.0025\n",
            "Epoch 69/100\n",
            "38/38 [==============================] - 5s 135ms/step - loss: 0.0027\n",
            "Epoch 70/100\n",
            "38/38 [==============================] - 5s 135ms/step - loss: 0.0025\n",
            "Epoch 71/100\n",
            "38/38 [==============================] - 5s 122ms/step - loss: 0.0026\n",
            "Epoch 72/100\n",
            "38/38 [==============================] - 5s 143ms/step - loss: 0.0026\n",
            "Epoch 73/100\n",
            "38/38 [==============================] - 5s 126ms/step - loss: 0.0022\n",
            "Epoch 74/100\n",
            "38/38 [==============================] - 5s 141ms/step - loss: 0.0025\n",
            "Epoch 75/100\n",
            "38/38 [==============================] - 5s 133ms/step - loss: 0.0022\n",
            "Epoch 76/100\n",
            "38/38 [==============================] - 6s 145ms/step - loss: 0.0022\n",
            "Epoch 77/100\n",
            "38/38 [==============================] - 5s 119ms/step - loss: 0.0023\n",
            "Epoch 78/100\n",
            "38/38 [==============================] - 5s 128ms/step - loss: 0.0026\n",
            "Epoch 79/100\n",
            "38/38 [==============================] - 5s 131ms/step - loss: 0.0025\n",
            "Epoch 80/100\n",
            "38/38 [==============================] - 5s 138ms/step - loss: 0.0024\n",
            "Epoch 81/100\n",
            "38/38 [==============================] - 5s 123ms/step - loss: 0.0022\n",
            "Epoch 82/100\n",
            "38/38 [==============================] - 5s 119ms/step - loss: 0.0027\n",
            "Epoch 83/100\n",
            "38/38 [==============================] - 5s 130ms/step - loss: 0.0024\n",
            "Epoch 84/100\n",
            "38/38 [==============================] - 5s 123ms/step - loss: 0.0020\n",
            "Epoch 85/100\n",
            "38/38 [==============================] - 5s 122ms/step - loss: 0.0024\n",
            "Epoch 86/100\n",
            "38/38 [==============================] - 5s 123ms/step - loss: 0.0021\n",
            "Epoch 87/100\n",
            "38/38 [==============================] - 4s 117ms/step - loss: 0.0020\n",
            "Epoch 88/100\n",
            "38/38 [==============================] - 5s 138ms/step - loss: 0.0022\n",
            "Epoch 89/100\n",
            "38/38 [==============================] - 5s 119ms/step - loss: 0.0022\n",
            "Epoch 90/100\n",
            "38/38 [==============================] - 4s 118ms/step - loss: 0.0021\n",
            "Epoch 91/100\n",
            "38/38 [==============================] - 5s 135ms/step - loss: 0.0019\n",
            "Epoch 92/100\n",
            "38/38 [==============================] - 5s 122ms/step - loss: 0.0021\n",
            "Epoch 93/100\n",
            "38/38 [==============================] - 5s 134ms/step - loss: 0.0021\n",
            "Epoch 94/100\n",
            "38/38 [==============================] - 4s 118ms/step - loss: 0.0023\n",
            "Epoch 95/100\n",
            "38/38 [==============================] - 5s 140ms/step - loss: 0.0022\n",
            "Epoch 96/100\n",
            "38/38 [==============================] - 5s 119ms/step - loss: 0.0022\n",
            "Epoch 97/100\n",
            "38/38 [==============================] - 5s 132ms/step - loss: 0.0021\n",
            "Epoch 98/100\n",
            "38/38 [==============================] - 5s 131ms/step - loss: 0.0021\n",
            "Epoch 99/100\n",
            "38/38 [==============================] - 5s 121ms/step - loss: 0.0020\n",
            "Epoch 100/100\n",
            "38/38 [==============================] - 5s 140ms/step - loss: 0.0020\n"
          ]
        },
        {
          "output_type": "execute_result",
          "data": {
            "text/plain": [
              "<keras.callbacks.History at 0x7f01f96a0fd0>"
            ]
          },
          "metadata": {},
          "execution_count": 14
        }
      ]
    },
    {
      "cell_type": "code",
      "metadata": {
        "id": "nywLR70_w_Or",
        "colab": {
          "base_uri": "https://localhost:8080/",
          "height": 206
        },
        "outputId": "f2ba25e1-c4e5-4bd3-b436-556d1c086603"
      },
      "source": [
        "# Making predictions: Getting the predicted stock price for 2017\n",
        "# ---\n",
        "#\n",
        "# checking the Test Dataset\n",
        "test.head()\n"
      ],
      "execution_count": 15,
      "outputs": [
        {
          "output_type": "execute_result",
          "data": {
            "text/plain": [
              "         Date       Open       High        Low      Close  Adj Close  \\\n",
              "0  2020-01-06  88.094002  90.311996  88.000000  90.307999  90.307999   \n",
              "1  2020-01-07  92.279999  94.325996  90.671997  93.811996  93.811996   \n",
              "2  2020-01-08  94.739998  99.697998  93.646004  98.428001  98.428001   \n",
              "3  2020-01-09  99.419998  99.760002  94.573997  96.267998  96.267998   \n",
              "4  2020-01-10  96.358002  96.987999  94.739998  95.629997  95.629997   \n",
              "\n",
              "      Volume  \n",
              "0   50665000  \n",
              "1   89410500  \n",
              "2  155721500  \n",
              "3  142202000  \n",
              "4   64797500  "
            ],
            "text/html": [
              "\n",
              "  <div id=\"df-8e439eb5-fb59-4799-92ec-a921e16db51c\">\n",
              "    <div class=\"colab-df-container\">\n",
              "      <div>\n",
              "<style scoped>\n",
              "    .dataframe tbody tr th:only-of-type {\n",
              "        vertical-align: middle;\n",
              "    }\n",
              "\n",
              "    .dataframe tbody tr th {\n",
              "        vertical-align: top;\n",
              "    }\n",
              "\n",
              "    .dataframe thead th {\n",
              "        text-align: right;\n",
              "    }\n",
              "</style>\n",
              "<table border=\"1\" class=\"dataframe\">\n",
              "  <thead>\n",
              "    <tr style=\"text-align: right;\">\n",
              "      <th></th>\n",
              "      <th>Date</th>\n",
              "      <th>Open</th>\n",
              "      <th>High</th>\n",
              "      <th>Low</th>\n",
              "      <th>Close</th>\n",
              "      <th>Adj Close</th>\n",
              "      <th>Volume</th>\n",
              "    </tr>\n",
              "  </thead>\n",
              "  <tbody>\n",
              "    <tr>\n",
              "      <th>0</th>\n",
              "      <td>2020-01-06</td>\n",
              "      <td>88.094002</td>\n",
              "      <td>90.311996</td>\n",
              "      <td>88.000000</td>\n",
              "      <td>90.307999</td>\n",
              "      <td>90.307999</td>\n",
              "      <td>50665000</td>\n",
              "    </tr>\n",
              "    <tr>\n",
              "      <th>1</th>\n",
              "      <td>2020-01-07</td>\n",
              "      <td>92.279999</td>\n",
              "      <td>94.325996</td>\n",
              "      <td>90.671997</td>\n",
              "      <td>93.811996</td>\n",
              "      <td>93.811996</td>\n",
              "      <td>89410500</td>\n",
              "    </tr>\n",
              "    <tr>\n",
              "      <th>2</th>\n",
              "      <td>2020-01-08</td>\n",
              "      <td>94.739998</td>\n",
              "      <td>99.697998</td>\n",
              "      <td>93.646004</td>\n",
              "      <td>98.428001</td>\n",
              "      <td>98.428001</td>\n",
              "      <td>155721500</td>\n",
              "    </tr>\n",
              "    <tr>\n",
              "      <th>3</th>\n",
              "      <td>2020-01-09</td>\n",
              "      <td>99.419998</td>\n",
              "      <td>99.760002</td>\n",
              "      <td>94.573997</td>\n",
              "      <td>96.267998</td>\n",
              "      <td>96.267998</td>\n",
              "      <td>142202000</td>\n",
              "    </tr>\n",
              "    <tr>\n",
              "      <th>4</th>\n",
              "      <td>2020-01-10</td>\n",
              "      <td>96.358002</td>\n",
              "      <td>96.987999</td>\n",
              "      <td>94.739998</td>\n",
              "      <td>95.629997</td>\n",
              "      <td>95.629997</td>\n",
              "      <td>64797500</td>\n",
              "    </tr>\n",
              "  </tbody>\n",
              "</table>\n",
              "</div>\n",
              "      <button class=\"colab-df-convert\" onclick=\"convertToInteractive('df-8e439eb5-fb59-4799-92ec-a921e16db51c')\"\n",
              "              title=\"Convert this dataframe to an interactive table.\"\n",
              "              style=\"display:none;\">\n",
              "        \n",
              "  <svg xmlns=\"http://www.w3.org/2000/svg\" height=\"24px\"viewBox=\"0 0 24 24\"\n",
              "       width=\"24px\">\n",
              "    <path d=\"M0 0h24v24H0V0z\" fill=\"none\"/>\n",
              "    <path d=\"M18.56 5.44l.94 2.06.94-2.06 2.06-.94-2.06-.94-.94-2.06-.94 2.06-2.06.94zm-11 1L8.5 8.5l.94-2.06 2.06-.94-2.06-.94L8.5 2.5l-.94 2.06-2.06.94zm10 10l.94 2.06.94-2.06 2.06-.94-2.06-.94-.94-2.06-.94 2.06-2.06.94z\"/><path d=\"M17.41 7.96l-1.37-1.37c-.4-.4-.92-.59-1.43-.59-.52 0-1.04.2-1.43.59L10.3 9.45l-7.72 7.72c-.78.78-.78 2.05 0 2.83L4 21.41c.39.39.9.59 1.41.59.51 0 1.02-.2 1.41-.59l7.78-7.78 2.81-2.81c.8-.78.8-2.07 0-2.86zM5.41 20L4 18.59l7.72-7.72 1.47 1.35L5.41 20z\"/>\n",
              "  </svg>\n",
              "      </button>\n",
              "      \n",
              "  <style>\n",
              "    .colab-df-container {\n",
              "      display:flex;\n",
              "      flex-wrap:wrap;\n",
              "      gap: 12px;\n",
              "    }\n",
              "\n",
              "    .colab-df-convert {\n",
              "      background-color: #E8F0FE;\n",
              "      border: none;\n",
              "      border-radius: 50%;\n",
              "      cursor: pointer;\n",
              "      display: none;\n",
              "      fill: #1967D2;\n",
              "      height: 32px;\n",
              "      padding: 0 0 0 0;\n",
              "      width: 32px;\n",
              "    }\n",
              "\n",
              "    .colab-df-convert:hover {\n",
              "      background-color: #E2EBFA;\n",
              "      box-shadow: 0px 1px 2px rgba(60, 64, 67, 0.3), 0px 1px 3px 1px rgba(60, 64, 67, 0.15);\n",
              "      fill: #174EA6;\n",
              "    }\n",
              "\n",
              "    [theme=dark] .colab-df-convert {\n",
              "      background-color: #3B4455;\n",
              "      fill: #D2E3FC;\n",
              "    }\n",
              "\n",
              "    [theme=dark] .colab-df-convert:hover {\n",
              "      background-color: #434B5C;\n",
              "      box-shadow: 0px 1px 3px 1px rgba(0, 0, 0, 0.15);\n",
              "      filter: drop-shadow(0px 1px 2px rgba(0, 0, 0, 0.3));\n",
              "      fill: #FFFFFF;\n",
              "    }\n",
              "  </style>\n",
              "\n",
              "      <script>\n",
              "        const buttonEl =\n",
              "          document.querySelector('#df-8e439eb5-fb59-4799-92ec-a921e16db51c button.colab-df-convert');\n",
              "        buttonEl.style.display =\n",
              "          google.colab.kernel.accessAllowed ? 'block' : 'none';\n",
              "\n",
              "        async function convertToInteractive(key) {\n",
              "          const element = document.querySelector('#df-8e439eb5-fb59-4799-92ec-a921e16db51c');\n",
              "          const dataTable =\n",
              "            await google.colab.kernel.invokeFunction('convertToInteractive',\n",
              "                                                     [key], {});\n",
              "          if (!dataTable) return;\n",
              "\n",
              "          const docLinkHtml = 'Like what you see? Visit the ' +\n",
              "            '<a target=\"_blank\" href=https://colab.research.google.com/notebooks/data_table.ipynb>data table notebook</a>'\n",
              "            + ' to learn more about interactive tables.';\n",
              "          element.innerHTML = '';\n",
              "          dataTable['output_type'] = 'display_data';\n",
              "          await google.colab.output.renderOutput(dataTable, element);\n",
              "          const docLink = document.createElement('div');\n",
              "          docLink.innerHTML = docLinkHtml;\n",
              "          element.appendChild(docLink);\n",
              "        }\n",
              "      </script>\n",
              "    </div>\n",
              "  </div>\n",
              "  "
            ]
          },
          "metadata": {},
          "execution_count": 15
        }
      ]
    },
    {
      "cell_type": "code",
      "source": [
        "real_stock_price = test.iloc[:, 1:2].values\n",
        "print(real_stock_price)"
      ],
      "metadata": {
        "colab": {
          "base_uri": "https://localhost:8080/"
        },
        "id": "Xe0VOUAwIDpk",
        "outputId": "b8941c1d-41f7-44cd-fce7-b12ace4296c5"
      },
      "execution_count": 20,
      "outputs": [
        {
          "output_type": "stream",
          "name": "stdout",
          "text": [
            "[[ 88.094002]\n",
            " [ 92.279999]\n",
            " [ 94.739998]\n",
            " [ 99.419998]\n",
            " [ 96.358002]\n",
            " [ 98.699997]\n",
            " [108.851997]\n",
            " [105.952003]\n",
            " [ 98.75    ]\n",
            " [101.522003]\n",
            " [106.050003]\n",
            " [114.377998]\n",
            " [112.849998]\n",
            " [114.125999]\n",
            " [108.398003]\n",
            " [113.697998]\n",
            " [115.138   ]\n",
            " [126.484001]\n",
            " [128.      ]\n",
            " [134.738007]\n",
            " [176.591995]\n",
            " [164.651993]\n",
            " [139.983994]\n",
            " [146.110001]\n",
            " [160.      ]\n",
            " [153.757996]\n",
            " [155.574005]\n",
            " [148.367996]\n",
            " [157.444   ]\n",
            " [168.320007]\n",
            " [184.699997]\n",
            " [182.389999]\n",
            " [181.395996]\n",
            " [167.800003]\n",
            " [169.800003]\n",
            " [156.5     ]\n",
            " [146.      ]\n",
            " [125.940002]\n",
            " [142.251999]\n",
            " [161.      ]\n",
            " [152.792007]\n",
            " [144.753998]\n",
            " [138.      ]\n",
            " [121.078003]\n",
            " [131.886002]\n",
            " [128.039993]\n",
            " [116.178001]\n",
            " [119.      ]\n",
            " [ 93.900002]\n",
            " [ 88.001999]\n",
            " [ 77.800003]\n",
            " [ 74.940002]\n",
            " [ 87.639999]\n",
            " [ 86.720001]\n",
            " [ 95.459999]\n",
            " [109.050003]\n",
            " [109.477997]\n",
            " [101.      ]\n",
            " [102.052002]\n",
            " [100.25    ]\n",
            " [100.800003]\n",
            " [ 96.206001]\n",
            " [101.900002]\n",
            " [102.239998]\n",
            " [109.      ]\n",
            " [110.839996]\n",
            " [112.417999]\n",
            " [118.031998]\n",
            " [139.794006]\n",
            " [148.399994]\n",
            " [143.388   ]\n",
            " [154.455994]\n",
            " [146.539993]\n",
            " [146.024002]\n",
            " [140.796005]\n",
            " [145.520004]\n",
            " [142.162003]\n",
            " [147.522003]\n",
            " [159.128006]\n",
            " [158.033997]\n",
            " [171.037994]\n",
            " [151.      ]\n",
            " [140.199997]\n",
            " [157.957993]\n",
            " [155.300003]\n",
            " [155.442001]\n",
            " [158.753998]\n",
            " [158.102005]\n",
            " [165.399994]\n",
            " [164.166   ]\n",
            " [156.      ]\n",
            " [158.070007]\n",
            " [165.556   ]\n",
            " [163.033997]\n",
            " [164.100006]\n",
            " [163.199997]\n",
            " [164.434006]\n",
            " [166.899994]\n",
            " [164.171997]\n",
            " [162.701996]\n",
            " [161.75    ]\n",
            " [171.600006]\n",
            " [178.940002]\n",
            " [177.623993]\n",
            " [177.975998]\n",
            " [175.567993]\n",
            " [183.800003]\n",
            " [188.001999]\n",
            " [198.376007]\n",
            " [198.039993]\n",
            " [196.      ]\n",
            " [183.557999]\n",
            " [202.369995]\n",
            " [197.542007]\n",
            " [200.600006]\n",
            " [202.556   ]\n",
            " [199.990005]\n",
            " [199.776001]\n",
            " [198.822006]\n",
            " [190.854004]\n",
            " [198.955994]\n",
            " [193.802002]\n",
            " [201.300003]\n",
            " [216.600006]\n",
            " [244.296005]\n",
            " [255.337997]\n",
            " [281.002014]\n",
            " [281.      ]\n",
            " [279.39801 ]\n",
            " [279.200012]\n",
            " [331.799988]\n",
            " [311.200012]\n",
            " [308.600006]\n",
            " [295.432007]\n",
            " [302.690002]\n",
            " [303.802002]\n",
            " [327.985992]\n",
            " [319.799988]\n",
            " [335.790009]\n",
            " [283.201996]\n",
            " [287.      ]\n",
            " [300.799988]\n",
            " [300.200012]\n",
            " [297.600006]\n",
            " [303.      ]\n",
            " [289.839996]\n",
            " [299.002014]\n",
            " [298.597992]\n",
            " [298.165985]\n",
            " [299.90799 ]\n",
            " [289.600006]\n",
            " [279.200012]\n",
            " [294.      ]\n",
            " [322.200012]\n",
            " [332.997986]\n",
            " [335.399994]\n",
            " [379.798004]\n",
            " [373.      ]\n",
            " [372.135986]\n",
            " [408.951996]\n",
            " [425.256012]\n",
            " [394.977997]\n",
            " [412.      ]\n",
            " [436.09201 ]\n",
            " [459.023987]\n",
            " [444.609985]\n",
            " [502.140015]\n",
            " [478.98999 ]\n",
            " [407.230011]\n",
            " [402.809998]\n",
            " [356.      ]\n",
            " [356.600006]\n",
            " [386.209991]\n",
            " [381.940002]\n",
            " [380.950012]\n",
            " [436.559998]\n",
            " [439.869995]\n",
            " [415.600006]\n",
            " [447.940002]\n",
            " [453.130005]\n",
            " [429.600006]\n",
            " [405.160004]\n",
            " [363.799988]\n",
            " [393.470001]\n",
            " [424.619995]\n",
            " [416.      ]\n",
            " [421.320007]\n",
            " [440.76001 ]\n",
            " [421.390015]\n",
            " [423.350006]\n",
            " [423.790009]\n",
            " [419.869995]\n",
            " [438.440002]\n",
            " [430.130005]\n",
            " [442.      ]\n",
            " [443.350006]\n",
            " [449.779999]\n",
            " [450.309998]\n",
            " [454.440002]\n",
            " [446.23999 ]\n",
            " [431.75    ]\n",
            " [422.700012]\n",
            " [441.920013]\n",
            " [421.839996]\n",
            " [411.630005]\n",
            " [423.76001 ]\n",
            " [416.480011]\n",
            " [409.959991]\n",
            " [406.899994]\n",
            " [394.      ]\n",
            " [409.730011]\n",
            " [430.619995]]\n"
          ]
        }
      ]
    },
    {
      "cell_type": "code",
      "source": [
        "# concatenate the train and test datasets for prediction, \n",
        "# because we use the previous 60 days' stock prices to predict the next-day price. \n",
        "# i.e. we need the 60 days' price before the 1st date in the test dataset.\n",
        "\n",
        "dataset_total = pd.concat((train['Open'], test['Open']), axis=0)\n",
        "dataset_total.shape"
      ],
      "metadata": {
        "colab": {
          "base_uri": "https://localhost:8080/"
        },
        "id": "aiUxtBeyIKsN",
        "outputId": "054ebba9-48d1-41ad-9cfa-4a83f1dd3cf2"
      },
      "execution_count": 23,
      "outputs": [
        {
          "output_type": "execute_result",
          "data": {
            "text/plain": [
              "(1470,)"
            ]
          },
          "metadata": {},
          "execution_count": 23
        }
      ]
    },
    {
      "cell_type": "code",
      "source": [
        "# we create the input for prediction, index starting from the \n",
        "# date 60 days before the first date in the test dataset.\n",
        "\n",
        "inputs = dataset_total[len(dataset_total) - len(test) - 60:].values"
      ],
      "metadata": {
        "id": "kXMWkWjXy9vg"
      },
      "execution_count": 25,
      "outputs": []
    },
    {
      "cell_type": "code",
      "source": [
        "#  reshape test dataset to have 3D shape# reshape the inputs to have only 1 column\n",
        "\n",
        "inputs = inputs.reshape(-1, 1)"
      ],
      "metadata": {
        "id": "HGXrdC0FzHxN"
      },
      "execution_count": 27,
      "outputs": []
    },
    {
      "cell_type": "code",
      "source": [
        "# use the scale set by the training set to scale the test inputs\n",
        "\n",
        "inputs = sc.transform(inputs)"
      ],
      "metadata": {
        "id": "4wmJK_LUJFA1"
      },
      "execution_count": 28,
      "outputs": []
    },
    {
      "cell_type": "code",
      "source": [
        "# create the test data structure just as we did for the train dataset\n",
        "\n",
        "X_test = []\n",
        "\n",
        "for i in range(60, 272):\n",
        "    X_test.append(inputs[i-60:i, 0])\n",
        "\n",
        "X_test = np.array(X_test)"
      ],
      "metadata": {
        "id": "Bh_erXeGMy5I"
      },
      "execution_count": 29,
      "outputs": []
    },
    {
      "cell_type": "code",
      "source": [
        "#  reshape test dataset to have 3D shape\n",
        "X_test = np.reshape(X_test, (X_test.shape[0], X_test.shape[1], 1))\n",
        "\n",
        "X_test.shape"
      ],
      "metadata": {
        "colab": {
          "base_uri": "https://localhost:8080/"
        },
        "id": "CjEDJ1dpIS4b",
        "outputId": "1adce552-7bfd-4996-c139-651aacfe2887"
      },
      "execution_count": 31,
      "outputs": [
        {
          "output_type": "execute_result",
          "data": {
            "text/plain": [
              "(212, 60, 1)"
            ]
          },
          "metadata": {},
          "execution_count": 31
        }
      ]
    },
    {
      "cell_type": "code",
      "source": [
        "# make predictions\n",
        "\n",
        "predicted_stock_price = regressor.predict(X_test)"
      ],
      "metadata": {
        "id": "TSQ1ATskIfd9"
      },
      "execution_count": 32,
      "outputs": []
    },
    {
      "cell_type": "code",
      "metadata": {
        "id": "DdqVPzPO-7Ca",
        "colab": {
          "base_uri": "https://localhost:8080/"
        },
        "outputId": "73d23336-0c97-47dc-c596-693bcd8bc03c"
      },
      "source": [
        "# since we have predicted the scaled values, we reverse those values\n",
        "\n",
        "predicted_stock_price = sc.inverse_transform(predicted_stock_price)\n",
        "print(predicted_stock_price)"
      ],
      "execution_count": 33,
      "outputs": [
        {
          "output_type": "stream",
          "name": "stdout",
          "text": [
            "[[ 34.714294]\n",
            " [ 37.235344]\n",
            " [ 43.17641 ]\n",
            " [ 52.201107]\n",
            " [ 62.856342]\n",
            " [ 73.01591 ]\n",
            " [ 81.21888 ]\n",
            " [ 87.57791 ]\n",
            " [ 92.26263 ]\n",
            " [ 94.98589 ]\n",
            " [ 96.066826]\n",
            " [ 96.38554 ]\n",
            " [ 97.11727 ]\n",
            " [ 98.59975 ]\n",
            " [100.65656 ]\n",
            " [102.48977 ]\n",
            " [103.94756 ]\n",
            " [105.173035]\n",
            " [107.0086  ]\n",
            " [109.76956 ]\n",
            " [113.55939 ]\n",
            " [121.151726]\n",
            " [131.69316 ]\n",
            " [140.24347 ]\n",
            " [144.8005  ]\n",
            " [147.01938 ]\n",
            " [147.88554 ]\n",
            " [148.16005 ]\n",
            " [147.68799 ]\n",
            " [147.32603 ]\n",
            " [148.46085 ]\n",
            " [152.66998 ]\n",
            " [159.17421 ]\n",
            " [165.9613  ]\n",
            " [170.06743 ]\n",
            " [171.0407  ]\n",
            " [168.69836 ]\n",
            " [163.40207 ]\n",
            " [155.17055 ]\n",
            " [146.69391 ]\n",
            " [141.36208 ]\n",
            " [139.65706 ]\n",
            " [139.92877 ]\n",
            " [140.1361  ]\n",
            " [138.16702 ]\n",
            " [134.74866 ]\n",
            " [130.8777  ]\n",
            " [126.53676 ]\n",
            " [122.19826 ]\n",
            " [116.818665]\n",
            " [110.03754 ]\n",
            " [102.0203  ]\n",
            " [ 93.50536 ]\n",
            " [ 86.12475 ]\n",
            " [ 80.8974  ]\n",
            " [ 78.480545]\n",
            " [ 79.47143 ]\n",
            " [ 83.39989 ]\n",
            " [ 88.34691 ]\n",
            " [ 92.66783 ]\n",
            " [ 95.467995]\n",
            " [ 96.70674 ]\n",
            " [ 96.516975]\n",
            " [ 95.68353 ]\n",
            " [ 94.890305]\n",
            " [ 94.87976 ]\n",
            " [ 95.9445  ]\n",
            " [ 97.92259 ]\n",
            " [100.697556]\n",
            " [105.373764]\n",
            " [112.54374 ]\n",
            " [120.78887 ]\n",
            " [129.14632 ]\n",
            " [135.92348 ]\n",
            " [140.20195 ]\n",
            " [141.70207 ]\n",
            " [141.4681  ]\n",
            " [140.31055 ]\n",
            " [139.28937 ]\n",
            " [139.84116 ]\n",
            " [142.05624 ]\n",
            " [146.269   ]\n",
            " [149.97234 ]\n",
            " [150.78423 ]\n",
            " [150.13104 ]\n",
            " [149.22676 ]\n",
            " [148.64474 ]\n",
            " [148.77    ]\n",
            " [149.47191 ]\n",
            " [151.03514 ]\n",
            " [153.13704 ]\n",
            " [154.52263 ]\n",
            " [154.88869 ]\n",
            " [155.14482 ]\n",
            " [155.55806 ]\n",
            " [156.16173 ]\n",
            " [156.76299 ]\n",
            " [157.32315 ]\n",
            " [158.02791 ]\n",
            " [158.62885 ]\n",
            " [158.83537 ]\n",
            " [158.55809 ]\n",
            " [158.81354 ]\n",
            " [160.59717 ]\n",
            " [163.5557  ]\n",
            " [166.8025  ]\n",
            " [169.33012 ]\n",
            " [171.53156 ]\n",
            " [173.99074 ]\n",
            " [177.65321 ]\n",
            " [182.1207  ]\n",
            " [186.17232 ]\n",
            " [187.73244 ]\n",
            " [188.66957 ]\n",
            " [189.55894 ]\n",
            " [190.72844 ]\n",
            " [192.27557 ]\n",
            " [193.65863 ]\n",
            " [194.53415 ]\n",
            " [194.78734 ]\n",
            " [193.75539 ]\n",
            " [192.5568  ]\n",
            " [191.36162 ]\n",
            " [191.04092 ]\n",
            " [193.34209 ]\n",
            " [201.12401 ]\n",
            " [214.34401 ]\n",
            " [232.8211  ]\n",
            " [251.66368 ]\n",
            " [265.40857 ]\n",
            " [272.44955 ]\n",
            " [283.66745 ]\n",
            " [294.35147 ]\n",
            " [300.62387 ]\n",
            " [300.25952 ]\n",
            " [297.62094 ]\n",
            " [295.49405 ]\n",
            " [299.08524 ]\n",
            " [304.97397 ]\n",
            " [313.18866 ]\n",
            " [310.66788 ]\n",
            " [301.6344  ]\n",
            " [294.05457 ]\n",
            " [290.10733 ]\n",
            " [288.8831  ]\n",
            " [290.06128 ]\n",
            " [290.0339  ]\n",
            " [289.968   ]\n",
            " [290.15005 ]\n",
            " [290.35257 ]\n",
            " [290.72388 ]\n",
            " [289.36975 ]\n",
            " [285.1453  ]\n",
            " [282.22858 ]\n",
            " [286.45755 ]\n",
            " [297.80338 ]\n",
            " [311.19595 ]\n",
            " [331.3339  ]\n",
            " [349.61734 ]\n",
            " [359.87018 ]\n",
            " [372.54755 ]\n",
            " [388.93396 ]\n",
            " [392.8426  ]\n",
            " [394.13257 ]\n",
            " [402.13058 ]\n",
            " [418.9177  ]\n",
            " [428.86447 ]\n",
            " [452.0939  ]\n",
            " [462.78613 ]\n",
            " [438.20563 ]\n",
            " [412.34644 ]\n",
            " [382.87216 ]\n",
            " [360.43585 ]\n",
            " [353.76318 ]\n",
            " [357.84656 ]\n",
            " [365.38608 ]\n",
            " [385.9591  ]\n",
            " [409.03793 ]\n",
            " [414.78375 ]\n",
            " [419.72037 ]\n",
            " [424.93832 ]\n",
            " [420.62772 ]\n",
            " [407.00504 ]\n",
            " [384.20483 ]\n",
            " [371.77243 ]\n",
            " [377.20947 ]\n",
            " [389.425   ]\n",
            " [401.09662 ]\n",
            " [413.67502 ]\n",
            " [415.8818  ]\n",
            " [412.75427 ]\n",
            " [408.8489  ]\n",
            " [405.04095 ]\n",
            " [408.24747 ]\n",
            " [411.53986 ]\n",
            " [417.08276 ]\n",
            " [422.24106 ]\n",
            " [427.28278 ]\n",
            " [430.53543 ]\n",
            " [433.1155  ]\n",
            " [431.75204 ]\n",
            " [424.71698 ]\n",
            " [415.43118 ]\n",
            " [414.42337 ]\n",
            " [411.8635  ]\n",
            " [406.12064 ]\n",
            " [404.30026 ]\n",
            " [403.0592  ]\n",
            " [400.27463 ]\n",
            " [396.5925  ]\n",
            " [390.11493 ]\n",
            " [388.33597 ]]\n"
          ]
        }
      ]
    },
    {
      "cell_type": "code",
      "metadata": {
        "id": "DawtOvbkdRHl",
        "colab": {
          "base_uri": "https://localhost:8080/",
          "height": 295
        },
        "outputId": "ae3d83e1-3a25-44c1-b327-a33dae57e6b2"
      },
      "source": [
        "# visualize the results\n",
        "\n",
        "plt.plot(real_stock_price, color='red', label='Real Stock Price')\n",
        "plt.plot(predicted_stock_price, color='blue', label='Predicted Stock Price')\n",
        "plt.title('Stock Price Prediction ')\n",
        "plt.xlabel('Days')\n",
        "plt.ylabel('Stock Price')\n",
        "plt.legend()\n",
        "plt.show()"
      ],
      "execution_count": 34,
      "outputs": [
        {
          "output_type": "display_data",
          "data": {
            "text/plain": [
              "<Figure size 432x288 with 1 Axes>"
            ],
            "image/png": "[encoded data removed]"
          },
          "metadata": {
            "needs_background": "light"
          }
        }
      ]
    },
    {
      "cell_type": "code",
      "source": [
        "# metric used is RMSE. the smaller the RMSE value, the better the model.\n",
        "\n",
        "import math\n",
        "from sklearn.metrics import mean_squared_error\n",
        "rmse = math.sqrt(mean_squared_error(real_stock_price, predicted_stock_price))\n",
        "print(rmse)"
      ],
      "metadata": {
        "colab": {
          "base_uri": "https://localhost:8080/"
        },
        "id": "jQC-nfS00MQM",
        "outputId": "7cae2842-4fe6-4e07-905d-faf4461cd271"
      },
      "execution_count": 35,
      "outputs": [
        {
          "output_type": "stream",
          "name": "stdout",
          "text": [
            "25.738172101886416\n"
          ]
        }
      ]
    },
    {
      "cell_type": "markdown",
      "metadata": {
        "id": "cnkCNAuEHlzG"
      },
      "source": [
        "## <font color='#2F4F4F'>Step 6. Summary of Findings and Recommendation</font>"
      ]
    },
    {
      "cell_type": "markdown",
      "metadata": {
        "id": "ZA2cp-dIMgki"
      },
      "source": [
        "Your observation goes here:\n",
        "\n",
        "The models RMSE is 25, slightly above the target.This is still good though. Judging from the graph, the model genelised well."
      ]
    },
    {
      "cell_type": "markdown",
      "metadata": {
        "id": "y5_spjYaHoyw"
      },
      "source": [
        "## <font color='#2F4F4F'>Step 7. Challenging our Solution</font>"
      ]
    },
    {
      "cell_type": "markdown",
      "metadata": {
        "id": "i5BnrlDxU5uG"
      },
      "source": [
        "#### a) Did we have the right question?\n",
        "Yes we had the right question\n",
        "\n",
        "#### b) Did we have the right data?\n",
        "The data for training was okay\n",
        "\n",
        "#### c) What can be done to improve the solution?\n",
        "A quick look at the testing data shows some date values for the year 2020. There is a big chance that the test data had irrelevant data that probaly made it difficult to achieve the target RMSE."
      ]
    }
  ]
}